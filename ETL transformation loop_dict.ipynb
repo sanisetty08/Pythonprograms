{
 "cells": [
  {
   "cell_type": "code",
   "execution_count": null,
   "metadata": {
    "collapsed": true
   },
   "outputs": [],
   "source": [
    "#transformation2-use list to add phone number with value 9000903798\n",
    "#transformation3-use dictionary to add middle name with value sontenam\n",
    "#transformation4-use if else statement to verify name = Jared(first name) then change the name to ganesh else leave it as old\n",
    "#transformation5-use if else statement to verify address id = 530 then change to 5300 or else leave it as old\n",
    "#transformation6-use for loop to find if first name is Jared and change it to Mared or else leave it as old"
   ]
  }
 ],
 "metadata": {
  "kernelspec": {
   "display_name": "Python 3",
   "language": "python",
   "name": "python3"
  },
  "language_info": {
   "codemirror_mode": {
    "name": "ipython",
    "version": 3
   },
   "file_extension": ".py",
   "mimetype": "text/x-python",
   "name": "python",
   "nbconvert_exporter": "python",
   "pygments_lexer": "ipython3",
   "version": "3.6.0"
  }
 },
 "nbformat": 4,
 "nbformat_minor": 2
}
