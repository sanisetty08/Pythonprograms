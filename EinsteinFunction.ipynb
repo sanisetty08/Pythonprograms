{
 "cells": [
  {
   "cell_type": "code",
   "execution_count": 2,
   "metadata": {
    "collapsed": false
   },
   "outputs": [
    {
     "name": "stdout",
     "output_type": "stream",
     "text": [
      "270000000000000000\n"
     ]
    }
   ],
   "source": [
    "import math\n",
    "m = 3\n",
    "c = m * math.pow(10,8)\n",
    "e = int(m * math.pow(c,2))\n",
    "print(e)"
   ]
  },
  {
   "cell_type": "code",
   "execution_count": null,
   "metadata": {
    "collapsed": true
   },
   "outputs": [],
   "source": [
    "#Step1:initialize m with 3\n",
    "#Step2:initialize c with m*10 power 8\n",
    "#Step3:assign e with required formula\n",
    "#Step4:print the value for the formula\n",
    "#Step5:initialize s with 5\n",
    "#Step6:initialize t with s*10 power 8\n",
    "#Step7:assign g with required form\n",
    "#Step8:print the value for the formula\n",
    "#Step9:initialize p with 9\n",
    "#Step10:initialize q with p*10 power 8\n",
    "#Step11:assign y with required form\n",
    "#Step12:print the value for the formula"
   ]
  },
  {
   "cell_type": "code",
   "execution_count": 6,
   "metadata": {
    "collapsed": false
   },
   "outputs": [
    {
     "name": "stdout",
     "output_type": "stream",
     "text": [
      "270000000000000000\n",
      "1250000000000000000\n",
      "7290000000000000000\n"
     ]
    }
   ],
   "source": [
    "import math\n",
    "m = 3\n",
    "c = m * math.pow(10,8)\n",
    "e = int(m * math.pow(c,2))\n",
    "print(e)\n",
    "\n",
    "s = 5\n",
    "t = s * math.pow(10,8)\n",
    "g = int(s * math.pow(t,2))\n",
    "print(g)\n",
    "\n",
    "p = 9\n",
    "q = p * math.pow(10,8)\n",
    "y = int(p * math.pow(q,2))\n",
    "print(y)"
   ]
  },
  {
   "cell_type": "code",
   "execution_count": 11,
   "metadata": {
    "collapsed": false
   },
   "outputs": [
    {
     "name": "stdout",
     "output_type": "stream",
     "text": [
      "270000000000000000\n",
      "1250000000000000000\n",
      "7290000000000000000\n"
     ]
    }
   ],
   "source": [
    "import math\n",
    "\n",
    "def shivaformula(x,y):\n",
    "    shiva = int(x * math.pow(y,2))\n",
    "    return shiva #returning for the call\n",
    "\n",
    "def sanjayformula(z):\n",
    "    sanjay = z * math.pow(10,8)\n",
    "    return sanjay\n",
    "\n",
    "#def srinuformula(u,w):\n",
    "    #srinu = sanjayformula(u)\n",
    "    #anisetty = shivaformula(u,w)\n",
    "    #return anisetty\n",
    "\n",
    "m = 3\n",
    "c = sanjayformula(m)\n",
    "e = shivaformula(m,c) #calling shivaformula\n",
    "print(e)\n",
    "\n",
    "s = 5\n",
    "t = sanjayformula(s)\n",
    "g = shivaformula(s,t) #calling shivaformula\n",
    "print(g)\n",
    "\n",
    "p = 9\n",
    "q = sanjayformula(p)\n",
    "y = shivaformula(p,q) #calling shivaformula\n",
    "print(y)"
   ]
  }
 ],
 "metadata": {
  "kernelspec": {
   "display_name": "Python 3",
   "language": "python",
   "name": "python3"
  },
  "language_info": {
   "codemirror_mode": {
    "name": "ipython",
    "version": 3
   },
   "file_extension": ".py",
   "mimetype": "text/x-python",
   "name": "python",
   "nbconvert_exporter": "python",
   "pygments_lexer": "ipython3",
   "version": "3.6.0"
  }
 },
 "nbformat": 4,
 "nbformat_minor": 2
}
